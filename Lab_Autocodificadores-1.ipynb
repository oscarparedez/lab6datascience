{
 "cells": [
  {
   "cell_type": "markdown",
   "metadata": {},
   "source": [
    "# Laboratorio - AutoCodificadores"
   ]
  },
  {
   "cell_type": "markdown",
   "metadata": {},
   "source": [
    "## Complete las tareas indicadas abajo\n",
    "\n",
    "**TAREA: Ejecute las siguientes importaciones**"
   ]
  },
  {
   "cell_type": "code",
   "execution_count": 16,
   "metadata": {},
   "outputs": [],
   "source": [
    "import pandas as pd\n",
    "import seaborn as sns\n",
    "import matplotlib.pyplot as plt"
   ]
  },
  {
   "cell_type": "markdown",
   "metadata": {},
   "source": [
    "## Los datos\n",
    "\n",
    "En la tabla que van a trabajar, se encuentra el consumo promedio de 17 tipos de comida, en gramos por persona por semana, para cada país del Reino Unido (UK).\n",
    "\n",
    "La tabla tiene algunas variaciones interesantes en diferentes tipos de comida, pero a nivel general las diferencias no son tan notables.\n",
    "\n",
    "**TAREA:  Ejecute la siguiente instrucción para leer los datos**\n",
    "\n",
    "Es posible que tenga que modificar la instrucción de acuerdo al lugar donde descargó el archivo."
   ]
  },
  {
   "cell_type": "code",
   "execution_count": 17,
   "metadata": {},
   "outputs": [],
   "source": [
    "df = pd.read_csv('UK_foods.csv', index_col = 'Unnamed: 0')"
   ]
  },
  {
   "cell_type": "markdown",
   "metadata": {},
   "source": [
    "**TAREA: Despliegue el DataFrame**"
   ]
  },
  {
   "cell_type": "code",
   "execution_count": 18,
   "metadata": {},
   "outputs": [
    {
     "data": {
      "text/html": [
       "<div>\n",
       "<style scoped>\n",
       "    .dataframe tbody tr th:only-of-type {\n",
       "        vertical-align: middle;\n",
       "    }\n",
       "\n",
       "    .dataframe tbody tr th {\n",
       "        vertical-align: top;\n",
       "    }\n",
       "\n",
       "    .dataframe thead th {\n",
       "        text-align: right;\n",
       "    }\n",
       "</style>\n",
       "<table border=\"1\" class=\"dataframe\">\n",
       "  <thead>\n",
       "    <tr style=\"text-align: right;\">\n",
       "      <th></th>\n",
       "      <th>England</th>\n",
       "      <th>Wales</th>\n",
       "      <th>Scotland</th>\n",
       "      <th>N.Ireland</th>\n",
       "    </tr>\n",
       "  </thead>\n",
       "  <tbody>\n",
       "    <tr>\n",
       "      <th>Cheese</th>\n",
       "      <td>105</td>\n",
       "      <td>103</td>\n",
       "      <td>103</td>\n",
       "      <td>66</td>\n",
       "    </tr>\n",
       "    <tr>\n",
       "      <th>Carcass_meat</th>\n",
       "      <td>245</td>\n",
       "      <td>227</td>\n",
       "      <td>242</td>\n",
       "      <td>267</td>\n",
       "    </tr>\n",
       "    <tr>\n",
       "      <th>Other_meat</th>\n",
       "      <td>685</td>\n",
       "      <td>803</td>\n",
       "      <td>750</td>\n",
       "      <td>586</td>\n",
       "    </tr>\n",
       "    <tr>\n",
       "      <th>Fish</th>\n",
       "      <td>147</td>\n",
       "      <td>160</td>\n",
       "      <td>122</td>\n",
       "      <td>93</td>\n",
       "    </tr>\n",
       "    <tr>\n",
       "      <th>Fats_and_oils</th>\n",
       "      <td>193</td>\n",
       "      <td>235</td>\n",
       "      <td>184</td>\n",
       "      <td>209</td>\n",
       "    </tr>\n",
       "    <tr>\n",
       "      <th>Sugars</th>\n",
       "      <td>156</td>\n",
       "      <td>175</td>\n",
       "      <td>147</td>\n",
       "      <td>139</td>\n",
       "    </tr>\n",
       "    <tr>\n",
       "      <th>Fresh_potatoes</th>\n",
       "      <td>720</td>\n",
       "      <td>874</td>\n",
       "      <td>566</td>\n",
       "      <td>1033</td>\n",
       "    </tr>\n",
       "    <tr>\n",
       "      <th>Fresh_Veg</th>\n",
       "      <td>253</td>\n",
       "      <td>265</td>\n",
       "      <td>171</td>\n",
       "      <td>143</td>\n",
       "    </tr>\n",
       "    <tr>\n",
       "      <th>Other_Veg</th>\n",
       "      <td>488</td>\n",
       "      <td>570</td>\n",
       "      <td>418</td>\n",
       "      <td>355</td>\n",
       "    </tr>\n",
       "    <tr>\n",
       "      <th>Processed_potatoes</th>\n",
       "      <td>198</td>\n",
       "      <td>203</td>\n",
       "      <td>220</td>\n",
       "      <td>187</td>\n",
       "    </tr>\n",
       "    <tr>\n",
       "      <th>Processed_Veg</th>\n",
       "      <td>360</td>\n",
       "      <td>365</td>\n",
       "      <td>337</td>\n",
       "      <td>334</td>\n",
       "    </tr>\n",
       "    <tr>\n",
       "      <th>Fresh_fruit</th>\n",
       "      <td>1102</td>\n",
       "      <td>1137</td>\n",
       "      <td>957</td>\n",
       "      <td>674</td>\n",
       "    </tr>\n",
       "    <tr>\n",
       "      <th>Cereals</th>\n",
       "      <td>1472</td>\n",
       "      <td>1582</td>\n",
       "      <td>1462</td>\n",
       "      <td>1494</td>\n",
       "    </tr>\n",
       "    <tr>\n",
       "      <th>Beverages</th>\n",
       "      <td>57</td>\n",
       "      <td>73</td>\n",
       "      <td>53</td>\n",
       "      <td>47</td>\n",
       "    </tr>\n",
       "    <tr>\n",
       "      <th>Soft_drinks</th>\n",
       "      <td>1374</td>\n",
       "      <td>1256</td>\n",
       "      <td>1572</td>\n",
       "      <td>1506</td>\n",
       "    </tr>\n",
       "    <tr>\n",
       "      <th>Alcoholic_drinks</th>\n",
       "      <td>375</td>\n",
       "      <td>475</td>\n",
       "      <td>458</td>\n",
       "      <td>135</td>\n",
       "    </tr>\n",
       "    <tr>\n",
       "      <th>Confectionery</th>\n",
       "      <td>54</td>\n",
       "      <td>64</td>\n",
       "      <td>62</td>\n",
       "      <td>41</td>\n",
       "    </tr>\n",
       "  </tbody>\n",
       "</table>\n",
       "</div>"
      ],
      "text/plain": [
       "                     England  Wales  Scotland  N.Ireland\n",
       "Cheese                   105    103       103         66\n",
       "Carcass_meat             245    227       242        267\n",
       "Other_meat               685    803       750        586\n",
       "Fish                     147    160       122         93\n",
       "Fats_and_oils            193    235       184        209\n",
       "Sugars                   156    175       147        139\n",
       "Fresh_potatoes           720    874       566       1033\n",
       "Fresh_Veg                253    265       171        143\n",
       "Other_Veg                488    570       418        355\n",
       "Processed_potatoes       198    203       220        187\n",
       "Processed_Veg            360    365       337        334\n",
       "Fresh_fruit             1102   1137       957        674\n",
       "Cereals                 1472   1582      1462       1494\n",
       "Beverages                 57     73        53         47\n",
       "Soft_drinks             1374   1256      1572       1506\n",
       "Alcoholic_drinks         375    475       458        135\n",
       "Confectionery             54     64        62         41"
      ]
     },
     "execution_count": 18,
     "metadata": {},
     "output_type": "execute_result"
    }
   ],
   "source": [
    "df"
   ]
  },
  {
   "cell_type": "code",
   "execution_count": 19,
   "metadata": {},
   "outputs": [
    {
     "data": {
      "text/html": [
       "<div>\n",
       "<style scoped>\n",
       "    .dataframe tbody tr th:only-of-type {\n",
       "        vertical-align: middle;\n",
       "    }\n",
       "\n",
       "    .dataframe tbody tr th {\n",
       "        vertical-align: top;\n",
       "    }\n",
       "\n",
       "    .dataframe thead th {\n",
       "        text-align: right;\n",
       "    }\n",
       "</style>\n",
       "<table border=\"1\" class=\"dataframe\">\n",
       "  <thead>\n",
       "    <tr style=\"text-align: right;\">\n",
       "      <th></th>\n",
       "      <th>England</th>\n",
       "      <th>Wales</th>\n",
       "      <th>Scotland</th>\n",
       "      <th>N.Ireland</th>\n",
       "    </tr>\n",
       "  </thead>\n",
       "  <tbody>\n",
       "    <tr>\n",
       "      <th>count</th>\n",
       "      <td>17.000000</td>\n",
       "      <td>17.000000</td>\n",
       "      <td>17.000000</td>\n",
       "      <td>17.000000</td>\n",
       "    </tr>\n",
       "    <tr>\n",
       "      <th>mean</th>\n",
       "      <td>469.647059</td>\n",
       "      <td>503.941176</td>\n",
       "      <td>460.235294</td>\n",
       "      <td>429.941176</td>\n",
       "    </tr>\n",
       "    <tr>\n",
       "      <th>std</th>\n",
       "      <td>452.701466</td>\n",
       "      <td>463.859282</td>\n",
       "      <td>469.595907</td>\n",
       "      <td>479.896014</td>\n",
       "    </tr>\n",
       "    <tr>\n",
       "      <th>min</th>\n",
       "      <td>54.000000</td>\n",
       "      <td>64.000000</td>\n",
       "      <td>53.000000</td>\n",
       "      <td>41.000000</td>\n",
       "    </tr>\n",
       "    <tr>\n",
       "      <th>25%</th>\n",
       "      <td>156.000000</td>\n",
       "      <td>175.000000</td>\n",
       "      <td>147.000000</td>\n",
       "      <td>135.000000</td>\n",
       "    </tr>\n",
       "    <tr>\n",
       "      <th>50%</th>\n",
       "      <td>253.000000</td>\n",
       "      <td>265.000000</td>\n",
       "      <td>242.000000</td>\n",
       "      <td>209.000000</td>\n",
       "    </tr>\n",
       "    <tr>\n",
       "      <th>75%</th>\n",
       "      <td>685.000000</td>\n",
       "      <td>803.000000</td>\n",
       "      <td>566.000000</td>\n",
       "      <td>586.000000</td>\n",
       "    </tr>\n",
       "    <tr>\n",
       "      <th>max</th>\n",
       "      <td>1472.000000</td>\n",
       "      <td>1582.000000</td>\n",
       "      <td>1572.000000</td>\n",
       "      <td>1506.000000</td>\n",
       "    </tr>\n",
       "  </tbody>\n",
       "</table>\n",
       "</div>"
      ],
      "text/plain": [
       "           England        Wales     Scotland    N.Ireland\n",
       "count    17.000000    17.000000    17.000000    17.000000\n",
       "mean    469.647059   503.941176   460.235294   429.941176\n",
       "std     452.701466   463.859282   469.595907   479.896014\n",
       "min      54.000000    64.000000    53.000000    41.000000\n",
       "25%     156.000000   175.000000   147.000000   135.000000\n",
       "50%     253.000000   265.000000   242.000000   209.000000\n",
       "75%     685.000000   803.000000   566.000000   586.000000\n",
       "max    1472.000000  1582.000000  1572.000000  1506.000000"
      ]
     },
     "execution_count": 19,
     "metadata": {},
     "output_type": "execute_result"
    }
   ],
   "source": [
    "df.describe()"
   ]
  },
  {
   "cell_type": "markdown",
   "metadata": {},
   "source": [
    "**TAREA:  Realice la transposición del DataFrame para que las columnas se conviertan en el índice.**"
   ]
  },
  {
   "cell_type": "code",
   "execution_count": 20,
   "metadata": {},
   "outputs": [],
   "source": [
    "df = df.T"
   ]
  },
  {
   "cell_type": "code",
   "execution_count": 21,
   "metadata": {},
   "outputs": [
    {
     "data": {
      "text/html": [
       "<div>\n",
       "<style scoped>\n",
       "    .dataframe tbody tr th:only-of-type {\n",
       "        vertical-align: middle;\n",
       "    }\n",
       "\n",
       "    .dataframe tbody tr th {\n",
       "        vertical-align: top;\n",
       "    }\n",
       "\n",
       "    .dataframe thead th {\n",
       "        text-align: right;\n",
       "    }\n",
       "</style>\n",
       "<table border=\"1\" class=\"dataframe\">\n",
       "  <thead>\n",
       "    <tr style=\"text-align: right;\">\n",
       "      <th></th>\n",
       "      <th>Cheese</th>\n",
       "      <th>Carcass_meat</th>\n",
       "      <th>Other_meat</th>\n",
       "      <th>Fish</th>\n",
       "      <th>Fats_and_oils</th>\n",
       "      <th>Sugars</th>\n",
       "      <th>Fresh_potatoes</th>\n",
       "      <th>Fresh_Veg</th>\n",
       "      <th>Other_Veg</th>\n",
       "      <th>Processed_potatoes</th>\n",
       "      <th>Processed_Veg</th>\n",
       "      <th>Fresh_fruit</th>\n",
       "      <th>Cereals</th>\n",
       "      <th>Beverages</th>\n",
       "      <th>Soft_drinks</th>\n",
       "      <th>Alcoholic_drinks</th>\n",
       "      <th>Confectionery</th>\n",
       "    </tr>\n",
       "  </thead>\n",
       "  <tbody>\n",
       "    <tr>\n",
       "      <th>England</th>\n",
       "      <td>105</td>\n",
       "      <td>245</td>\n",
       "      <td>685</td>\n",
       "      <td>147</td>\n",
       "      <td>193</td>\n",
       "      <td>156</td>\n",
       "      <td>720</td>\n",
       "      <td>253</td>\n",
       "      <td>488</td>\n",
       "      <td>198</td>\n",
       "      <td>360</td>\n",
       "      <td>1102</td>\n",
       "      <td>1472</td>\n",
       "      <td>57</td>\n",
       "      <td>1374</td>\n",
       "      <td>375</td>\n",
       "      <td>54</td>\n",
       "    </tr>\n",
       "    <tr>\n",
       "      <th>Wales</th>\n",
       "      <td>103</td>\n",
       "      <td>227</td>\n",
       "      <td>803</td>\n",
       "      <td>160</td>\n",
       "      <td>235</td>\n",
       "      <td>175</td>\n",
       "      <td>874</td>\n",
       "      <td>265</td>\n",
       "      <td>570</td>\n",
       "      <td>203</td>\n",
       "      <td>365</td>\n",
       "      <td>1137</td>\n",
       "      <td>1582</td>\n",
       "      <td>73</td>\n",
       "      <td>1256</td>\n",
       "      <td>475</td>\n",
       "      <td>64</td>\n",
       "    </tr>\n",
       "    <tr>\n",
       "      <th>Scotland</th>\n",
       "      <td>103</td>\n",
       "      <td>242</td>\n",
       "      <td>750</td>\n",
       "      <td>122</td>\n",
       "      <td>184</td>\n",
       "      <td>147</td>\n",
       "      <td>566</td>\n",
       "      <td>171</td>\n",
       "      <td>418</td>\n",
       "      <td>220</td>\n",
       "      <td>337</td>\n",
       "      <td>957</td>\n",
       "      <td>1462</td>\n",
       "      <td>53</td>\n",
       "      <td>1572</td>\n",
       "      <td>458</td>\n",
       "      <td>62</td>\n",
       "    </tr>\n",
       "    <tr>\n",
       "      <th>N.Ireland</th>\n",
       "      <td>66</td>\n",
       "      <td>267</td>\n",
       "      <td>586</td>\n",
       "      <td>93</td>\n",
       "      <td>209</td>\n",
       "      <td>139</td>\n",
       "      <td>1033</td>\n",
       "      <td>143</td>\n",
       "      <td>355</td>\n",
       "      <td>187</td>\n",
       "      <td>334</td>\n",
       "      <td>674</td>\n",
       "      <td>1494</td>\n",
       "      <td>47</td>\n",
       "      <td>1506</td>\n",
       "      <td>135</td>\n",
       "      <td>41</td>\n",
       "    </tr>\n",
       "  </tbody>\n",
       "</table>\n",
       "</div>"
      ],
      "text/plain": [
       "           Cheese  Carcass_meat   ...  Alcoholic_drinks   Confectionery \n",
       "England       105            245  ...                375              54\n",
       "Wales         103            227  ...                475              64\n",
       "Scotland      103            242  ...                458              62\n",
       "N.Ireland      66            267  ...                135              41\n",
       "\n",
       "[4 rows x 17 columns]"
      ]
     },
     "execution_count": 21,
     "metadata": {},
     "output_type": "execute_result"
    }
   ],
   "source": [
    "df"
   ]
  },
  {
   "cell_type": "markdown",
   "metadata": {},
   "source": [
    "**TAREA:  Cree un mapa de calor a partir del DataFrame.** \n",
    "\n",
    "¿Existe algún país que sobresalga por diferencia de los otros?  Puede ser bastante difícil determinar esto solo por la imagen.\n",
    "\n",
    "¿Habrá algún par de países que parezcan muy similares entre si?\n",
    "\n"
   ]
  },
  {
   "cell_type": "code",
   "execution_count": 22,
   "metadata": {},
   "outputs": [
    {
     "data": {
      "text/html": [
       "<style type=\"text/css\">\n",
       "#T_be7d4_row0_col0, #T_be7d4_row1_col2, #T_be7d4_row1_col3, #T_be7d4_row1_col4, #T_be7d4_row1_col5, #T_be7d4_row1_col7, #T_be7d4_row1_col8, #T_be7d4_row1_col10, #T_be7d4_row1_col11, #T_be7d4_row1_col12, #T_be7d4_row1_col13, #T_be7d4_row1_col15, #T_be7d4_row1_col16, #T_be7d4_row2_col9, #T_be7d4_row2_col14, #T_be7d4_row3_col1, #T_be7d4_row3_col6 {\n",
       "  background-color: #fde725;\n",
       "  color: #000000;\n",
       "}\n",
       "#T_be7d4_row0_col1 {\n",
       "  background-color: #25848e;\n",
       "  color: #f1f1f1;\n",
       "}\n",
       "#T_be7d4_row0_col2 {\n",
       "  background-color: #25858e;\n",
       "  color: #f1f1f1;\n",
       "}\n",
       "#T_be7d4_row0_col3 {\n",
       "  background-color: #7fd34e;\n",
       "  color: #000000;\n",
       "}\n",
       "#T_be7d4_row0_col4 {\n",
       "  background-color: #433d84;\n",
       "  color: #f1f1f1;\n",
       "}\n",
       "#T_be7d4_row0_col5 {\n",
       "  background-color: #23898e;\n",
       "  color: #f1f1f1;\n",
       "}\n",
       "#T_be7d4_row0_col6 {\n",
       "  background-color: #31678e;\n",
       "  color: #f1f1f1;\n",
       "}\n",
       "#T_be7d4_row0_col7 {\n",
       "  background-color: #bddf26;\n",
       "  color: #000000;\n",
       "}\n",
       "#T_be7d4_row0_col8 {\n",
       "  background-color: #26ad81;\n",
       "  color: #f1f1f1;\n",
       "}\n",
       "#T_be7d4_row0_col9 {\n",
       "  background-color: #31688e;\n",
       "  color: #f1f1f1;\n",
       "}\n",
       "#T_be7d4_row0_col10 {\n",
       "  background-color: #93d741;\n",
       "  color: #000000;\n",
       "}\n",
       "#T_be7d4_row0_col11 {\n",
       "  background-color: #cde11d;\n",
       "  color: #000000;\n",
       "}\n",
       "#T_be7d4_row0_col12 {\n",
       "  background-color: #481f70;\n",
       "  color: #f1f1f1;\n",
       "}\n",
       "#T_be7d4_row0_col13 {\n",
       "  background-color: #2b748e;\n",
       "  color: #f1f1f1;\n",
       "}\n",
       "#T_be7d4_row0_col14 {\n",
       "  background-color: #2c718e;\n",
       "  color: #f1f1f1;\n",
       "}\n",
       "#T_be7d4_row0_col15 {\n",
       "  background-color: #46c06f;\n",
       "  color: #f1f1f1;\n",
       "}\n",
       "#T_be7d4_row0_col16 {\n",
       "  background-color: #1fa088;\n",
       "  color: #f1f1f1;\n",
       "}\n",
       "#T_be7d4_row1_col0, #T_be7d4_row2_col0 {\n",
       "  background-color: #dde318;\n",
       "  color: #000000;\n",
       "}\n",
       "#T_be7d4_row1_col1, #T_be7d4_row1_col14, #T_be7d4_row2_col4, #T_be7d4_row2_col6, #T_be7d4_row2_col12, #T_be7d4_row3_col0, #T_be7d4_row3_col2, #T_be7d4_row3_col3, #T_be7d4_row3_col5, #T_be7d4_row3_col7, #T_be7d4_row3_col8, #T_be7d4_row3_col9, #T_be7d4_row3_col10, #T_be7d4_row3_col11, #T_be7d4_row3_col13, #T_be7d4_row3_col15, #T_be7d4_row3_col16 {\n",
       "  background-color: #440154;\n",
       "  color: #f1f1f1;\n",
       "}\n",
       "#T_be7d4_row1_col6 {\n",
       "  background-color: #32b67a;\n",
       "  color: #f1f1f1;\n",
       "}\n",
       "#T_be7d4_row1_col9 {\n",
       "  background-color: #228d8d;\n",
       "  color: #f1f1f1;\n",
       "}\n",
       "#T_be7d4_row2_col1 {\n",
       "  background-color: #2c728e;\n",
       "  color: #f1f1f1;\n",
       "}\n",
       "#T_be7d4_row2_col2 {\n",
       "  background-color: #60ca60;\n",
       "  color: #000000;\n",
       "}\n",
       "#T_be7d4_row2_col3 {\n",
       "  background-color: #27808e;\n",
       "  color: #f1f1f1;\n",
       "}\n",
       "#T_be7d4_row2_col5 {\n",
       "  background-color: #3e4989;\n",
       "  color: #f1f1f1;\n",
       "}\n",
       "#T_be7d4_row2_col7 {\n",
       "  background-color: #3e4c8a;\n",
       "  color: #f1f1f1;\n",
       "}\n",
       "#T_be7d4_row2_col8 {\n",
       "  background-color: #355e8d;\n",
       "  color: #f1f1f1;\n",
       "}\n",
       "#T_be7d4_row2_col10 {\n",
       "  background-color: #482374;\n",
       "  color: #f1f1f1;\n",
       "}\n",
       "#T_be7d4_row2_col11 {\n",
       "  background-color: #25ab82;\n",
       "  color: #f1f1f1;\n",
       "}\n",
       "#T_be7d4_row2_col13 {\n",
       "  background-color: #3d4d8a;\n",
       "  color: #f1f1f1;\n",
       "}\n",
       "#T_be7d4_row2_col15 {\n",
       "  background-color: #dfe318;\n",
       "  color: #000000;\n",
       "}\n",
       "#T_be7d4_row2_col16 {\n",
       "  background-color: #c5e021;\n",
       "  color: #000000;\n",
       "}\n",
       "#T_be7d4_row3_col4 {\n",
       "  background-color: #218e8d;\n",
       "  color: #f1f1f1;\n",
       "}\n",
       "#T_be7d4_row3_col12 {\n",
       "  background-color: #39568c;\n",
       "  color: #f1f1f1;\n",
       "}\n",
       "#T_be7d4_row3_col14 {\n",
       "  background-color: #75d054;\n",
       "  color: #000000;\n",
       "}\n",
       "</style>\n",
       "<table id=\"T_be7d4\">\n",
       "  <thead>\n",
       "    <tr>\n",
       "      <th class=\"blank level0\" >&nbsp;</th>\n",
       "      <th id=\"T_be7d4_level0_col0\" class=\"col_heading level0 col0\" >Cheese</th>\n",
       "      <th id=\"T_be7d4_level0_col1\" class=\"col_heading level0 col1\" >Carcass_meat </th>\n",
       "      <th id=\"T_be7d4_level0_col2\" class=\"col_heading level0 col2\" >Other_meat </th>\n",
       "      <th id=\"T_be7d4_level0_col3\" class=\"col_heading level0 col3\" >Fish</th>\n",
       "      <th id=\"T_be7d4_level0_col4\" class=\"col_heading level0 col4\" >Fats_and_oils </th>\n",
       "      <th id=\"T_be7d4_level0_col5\" class=\"col_heading level0 col5\" >Sugars</th>\n",
       "      <th id=\"T_be7d4_level0_col6\" class=\"col_heading level0 col6\" >Fresh_potatoes </th>\n",
       "      <th id=\"T_be7d4_level0_col7\" class=\"col_heading level0 col7\" >Fresh_Veg </th>\n",
       "      <th id=\"T_be7d4_level0_col8\" class=\"col_heading level0 col8\" >Other_Veg </th>\n",
       "      <th id=\"T_be7d4_level0_col9\" class=\"col_heading level0 col9\" >Processed_potatoes </th>\n",
       "      <th id=\"T_be7d4_level0_col10\" class=\"col_heading level0 col10\" >Processed_Veg </th>\n",
       "      <th id=\"T_be7d4_level0_col11\" class=\"col_heading level0 col11\" >Fresh_fruit </th>\n",
       "      <th id=\"T_be7d4_level0_col12\" class=\"col_heading level0 col12\" >Cereals </th>\n",
       "      <th id=\"T_be7d4_level0_col13\" class=\"col_heading level0 col13\" >Beverages</th>\n",
       "      <th id=\"T_be7d4_level0_col14\" class=\"col_heading level0 col14\" >Soft_drinks </th>\n",
       "      <th id=\"T_be7d4_level0_col15\" class=\"col_heading level0 col15\" >Alcoholic_drinks </th>\n",
       "      <th id=\"T_be7d4_level0_col16\" class=\"col_heading level0 col16\" >Confectionery </th>\n",
       "    </tr>\n",
       "  </thead>\n",
       "  <tbody>\n",
       "    <tr>\n",
       "      <th id=\"T_be7d4_level0_row0\" class=\"row_heading level0 row0\" >England</th>\n",
       "      <td id=\"T_be7d4_row0_col0\" class=\"data row0 col0\" >105</td>\n",
       "      <td id=\"T_be7d4_row0_col1\" class=\"data row0 col1\" >245</td>\n",
       "      <td id=\"T_be7d4_row0_col2\" class=\"data row0 col2\" >685</td>\n",
       "      <td id=\"T_be7d4_row0_col3\" class=\"data row0 col3\" >147</td>\n",
       "      <td id=\"T_be7d4_row0_col4\" class=\"data row0 col4\" >193</td>\n",
       "      <td id=\"T_be7d4_row0_col5\" class=\"data row0 col5\" >156</td>\n",
       "      <td id=\"T_be7d4_row0_col6\" class=\"data row0 col6\" >720</td>\n",
       "      <td id=\"T_be7d4_row0_col7\" class=\"data row0 col7\" >253</td>\n",
       "      <td id=\"T_be7d4_row0_col8\" class=\"data row0 col8\" >488</td>\n",
       "      <td id=\"T_be7d4_row0_col9\" class=\"data row0 col9\" >198</td>\n",
       "      <td id=\"T_be7d4_row0_col10\" class=\"data row0 col10\" >360</td>\n",
       "      <td id=\"T_be7d4_row0_col11\" class=\"data row0 col11\" >1102</td>\n",
       "      <td id=\"T_be7d4_row0_col12\" class=\"data row0 col12\" >1472</td>\n",
       "      <td id=\"T_be7d4_row0_col13\" class=\"data row0 col13\" >57</td>\n",
       "      <td id=\"T_be7d4_row0_col14\" class=\"data row0 col14\" >1374</td>\n",
       "      <td id=\"T_be7d4_row0_col15\" class=\"data row0 col15\" >375</td>\n",
       "      <td id=\"T_be7d4_row0_col16\" class=\"data row0 col16\" >54</td>\n",
       "    </tr>\n",
       "    <tr>\n",
       "      <th id=\"T_be7d4_level0_row1\" class=\"row_heading level0 row1\" >Wales</th>\n",
       "      <td id=\"T_be7d4_row1_col0\" class=\"data row1 col0\" >103</td>\n",
       "      <td id=\"T_be7d4_row1_col1\" class=\"data row1 col1\" >227</td>\n",
       "      <td id=\"T_be7d4_row1_col2\" class=\"data row1 col2\" >803</td>\n",
       "      <td id=\"T_be7d4_row1_col3\" class=\"data row1 col3\" >160</td>\n",
       "      <td id=\"T_be7d4_row1_col4\" class=\"data row1 col4\" >235</td>\n",
       "      <td id=\"T_be7d4_row1_col5\" class=\"data row1 col5\" >175</td>\n",
       "      <td id=\"T_be7d4_row1_col6\" class=\"data row1 col6\" >874</td>\n",
       "      <td id=\"T_be7d4_row1_col7\" class=\"data row1 col7\" >265</td>\n",
       "      <td id=\"T_be7d4_row1_col8\" class=\"data row1 col8\" >570</td>\n",
       "      <td id=\"T_be7d4_row1_col9\" class=\"data row1 col9\" >203</td>\n",
       "      <td id=\"T_be7d4_row1_col10\" class=\"data row1 col10\" >365</td>\n",
       "      <td id=\"T_be7d4_row1_col11\" class=\"data row1 col11\" >1137</td>\n",
       "      <td id=\"T_be7d4_row1_col12\" class=\"data row1 col12\" >1582</td>\n",
       "      <td id=\"T_be7d4_row1_col13\" class=\"data row1 col13\" >73</td>\n",
       "      <td id=\"T_be7d4_row1_col14\" class=\"data row1 col14\" >1256</td>\n",
       "      <td id=\"T_be7d4_row1_col15\" class=\"data row1 col15\" >475</td>\n",
       "      <td id=\"T_be7d4_row1_col16\" class=\"data row1 col16\" >64</td>\n",
       "    </tr>\n",
       "    <tr>\n",
       "      <th id=\"T_be7d4_level0_row2\" class=\"row_heading level0 row2\" >Scotland</th>\n",
       "      <td id=\"T_be7d4_row2_col0\" class=\"data row2 col0\" >103</td>\n",
       "      <td id=\"T_be7d4_row2_col1\" class=\"data row2 col1\" >242</td>\n",
       "      <td id=\"T_be7d4_row2_col2\" class=\"data row2 col2\" >750</td>\n",
       "      <td id=\"T_be7d4_row2_col3\" class=\"data row2 col3\" >122</td>\n",
       "      <td id=\"T_be7d4_row2_col4\" class=\"data row2 col4\" >184</td>\n",
       "      <td id=\"T_be7d4_row2_col5\" class=\"data row2 col5\" >147</td>\n",
       "      <td id=\"T_be7d4_row2_col6\" class=\"data row2 col6\" >566</td>\n",
       "      <td id=\"T_be7d4_row2_col7\" class=\"data row2 col7\" >171</td>\n",
       "      <td id=\"T_be7d4_row2_col8\" class=\"data row2 col8\" >418</td>\n",
       "      <td id=\"T_be7d4_row2_col9\" class=\"data row2 col9\" >220</td>\n",
       "      <td id=\"T_be7d4_row2_col10\" class=\"data row2 col10\" >337</td>\n",
       "      <td id=\"T_be7d4_row2_col11\" class=\"data row2 col11\" >957</td>\n",
       "      <td id=\"T_be7d4_row2_col12\" class=\"data row2 col12\" >1462</td>\n",
       "      <td id=\"T_be7d4_row2_col13\" class=\"data row2 col13\" >53</td>\n",
       "      <td id=\"T_be7d4_row2_col14\" class=\"data row2 col14\" >1572</td>\n",
       "      <td id=\"T_be7d4_row2_col15\" class=\"data row2 col15\" >458</td>\n",
       "      <td id=\"T_be7d4_row2_col16\" class=\"data row2 col16\" >62</td>\n",
       "    </tr>\n",
       "    <tr>\n",
       "      <th id=\"T_be7d4_level0_row3\" class=\"row_heading level0 row3\" >N.Ireland</th>\n",
       "      <td id=\"T_be7d4_row3_col0\" class=\"data row3 col0\" >66</td>\n",
       "      <td id=\"T_be7d4_row3_col1\" class=\"data row3 col1\" >267</td>\n",
       "      <td id=\"T_be7d4_row3_col2\" class=\"data row3 col2\" >586</td>\n",
       "      <td id=\"T_be7d4_row3_col3\" class=\"data row3 col3\" >93</td>\n",
       "      <td id=\"T_be7d4_row3_col4\" class=\"data row3 col4\" >209</td>\n",
       "      <td id=\"T_be7d4_row3_col5\" class=\"data row3 col5\" >139</td>\n",
       "      <td id=\"T_be7d4_row3_col6\" class=\"data row3 col6\" >1033</td>\n",
       "      <td id=\"T_be7d4_row3_col7\" class=\"data row3 col7\" >143</td>\n",
       "      <td id=\"T_be7d4_row3_col8\" class=\"data row3 col8\" >355</td>\n",
       "      <td id=\"T_be7d4_row3_col9\" class=\"data row3 col9\" >187</td>\n",
       "      <td id=\"T_be7d4_row3_col10\" class=\"data row3 col10\" >334</td>\n",
       "      <td id=\"T_be7d4_row3_col11\" class=\"data row3 col11\" >674</td>\n",
       "      <td id=\"T_be7d4_row3_col12\" class=\"data row3 col12\" >1494</td>\n",
       "      <td id=\"T_be7d4_row3_col13\" class=\"data row3 col13\" >47</td>\n",
       "      <td id=\"T_be7d4_row3_col14\" class=\"data row3 col14\" >1506</td>\n",
       "      <td id=\"T_be7d4_row3_col15\" class=\"data row3 col15\" >135</td>\n",
       "      <td id=\"T_be7d4_row3_col16\" class=\"data row3 col16\" >41</td>\n",
       "    </tr>\n",
       "  </tbody>\n",
       "</table>\n"
      ],
      "text/plain": [
       "<pandas.io.formats.style.Styler at 0x1c07c4fe890>"
      ]
     },
     "execution_count": 22,
     "metadata": {},
     "output_type": "execute_result"
    }
   ],
   "source": [
    "df.style.background_gradient(cmap ='viridis')"
   ]
  },
  {
   "cell_type": "code",
   "execution_count": null,
   "metadata": {},
   "outputs": [],
   "source": []
  },
  {
   "cell_type": "markdown",
   "metadata": {},
   "source": [
    "**TAREA:  Realice las importaciones necesarias para construir un AutoCodificador.  La meta será reducir las dimensiones de 17 --> 2 y ver si hay países que resalten como diferentes.**"
   ]
  },
  {
   "cell_type": "code",
   "execution_count": 23,
   "metadata": {},
   "outputs": [],
   "source": [
    "import tensorflow as tf\n",
    "from tensorflow import keras"
   ]
  },
  {
   "cell_type": "code",
   "execution_count": null,
   "metadata": {},
   "outputs": [],
   "source": []
  },
  {
   "cell_type": "markdown",
   "metadata": {},
   "source": [
    "**TAREA:  Cree un codificador**"
   ]
  },
  {
   "cell_type": "code",
   "execution_count": 24,
   "metadata": {},
   "outputs": [],
   "source": [
    "codificador = keras.models.Sequential()\n",
    "codificador.add(keras.layers.Dense(units = 2,\n",
    "                      activation = 'relu',\n",
    "                      input_shape = [17]))"
   ]
  },
  {
   "cell_type": "code",
   "execution_count": null,
   "metadata": {},
   "outputs": [],
   "source": []
  },
  {
   "cell_type": "markdown",
   "metadata": {},
   "source": [
    "**TAREA: Cree un decodificador.**"
   ]
  },
  {
   "cell_type": "code",
   "execution_count": 25,
   "metadata": {},
   "outputs": [],
   "source": [
    "decodificador = keras.models.Sequential()\n",
    "decodificador.add(keras.layers.Dense(units = 17,\n",
    "                        activation = 'relu',\n",
    "                        input_shape = [2]))"
   ]
  },
  {
   "cell_type": "code",
   "execution_count": null,
   "metadata": {},
   "outputs": [],
   "source": []
  },
  {
   "cell_type": "markdown",
   "metadata": {},
   "source": [
    "**TAREA: Combine el codificador y el decodificador para conformar un AutoCodificador, y complile el modelo.**"
   ]
  },
  {
   "cell_type": "code",
   "execution_count": 26,
   "metadata": {},
   "outputs": [
    {
     "name": "stderr",
     "output_type": "stream",
     "text": [
      "d:\\Program Files\\Python310\\lib\\site-packages\\keras\\optimizers\\optimizer_v2\\gradient_descent.py:108: UserWarning: The `lr` argument is deprecated, use `learning_rate` instead.\n",
      "  super(SGD, self).__init__(name, **kwargs)\n"
     ]
    }
   ],
   "source": [
    "autocodificador = keras.models.Sequential([codificador,\n",
    "                              decodificador])\n",
    "autocodificador.compile(loss = \"mse\",\n",
    "                        optimizer = keras.optimizers.SGD(lr = 1.5))"
   ]
  },
  {
   "cell_type": "code",
   "execution_count": null,
   "metadata": {},
   "outputs": [],
   "source": []
  },
  {
   "cell_type": "markdown",
   "metadata": {},
   "source": [
    "**TAREA: Cree un normalizador MinMaxScaler para normalizar (escalar) los datos.  Asegúrese de transponer los datos ya que realmente tenemos 17 columnas (features) y solo 4 filas (uno por país).**"
   ]
  },
  {
   "cell_type": "code",
   "execution_count": 27,
   "metadata": {},
   "outputs": [],
   "source": [
    "from sklearn.preprocessing import MinMaxScaler"
   ]
  },
  {
   "cell_type": "code",
   "execution_count": 28,
   "metadata": {},
   "outputs": [],
   "source": [
    "normalizador = MinMaxScaler()\n",
    "datos_normalizados = normalizador.fit_transform(df)"
   ]
  },
  {
   "cell_type": "code",
   "execution_count": null,
   "metadata": {},
   "outputs": [],
   "source": []
  },
  {
   "cell_type": "code",
   "execution_count": null,
   "metadata": {},
   "outputs": [],
   "source": []
  },
  {
   "cell_type": "code",
   "execution_count": 29,
   "metadata": {},
   "outputs": [],
   "source": [
    "# NOTA la forma debe ser 17 columnas por 4 filas."
   ]
  },
  {
   "cell_type": "markdown",
   "metadata": {},
   "source": [
    "**TAREA:  Ajuste el AutoCodificador a los datos normalizados por medio de 15 épocas.**"
   ]
  },
  {
   "cell_type": "code",
   "execution_count": 30,
   "metadata": {},
   "outputs": [
    {
     "name": "stdout",
     "output_type": "stream",
     "text": [
      "Epoch 1/15\n",
      "1/1 [==============================] - 0s 244ms/step - loss: 0.2971\n",
      "Epoch 2/15\n",
      "1/1 [==============================] - 0s 2ms/step - loss: 0.2802\n",
      "Epoch 3/15\n",
      "1/1 [==============================] - 0s 2ms/step - loss: 0.2622\n",
      "Epoch 4/15\n",
      "1/1 [==============================] - 0s 2ms/step - loss: 0.2478\n",
      "Epoch 5/15\n",
      "1/1 [==============================] - 0s 2ms/step - loss: 0.2380\n",
      "Epoch 6/15\n",
      "1/1 [==============================] - 0s 2ms/step - loss: 0.2370\n",
      "Epoch 7/15\n",
      "1/1 [==============================] - 0s 1ms/step - loss: 0.2367\n",
      "Epoch 8/15\n",
      "1/1 [==============================] - 0s 2ms/step - loss: 0.2365\n",
      "Epoch 9/15\n",
      "1/1 [==============================] - 0s 2ms/step - loss: 0.2363\n",
      "Epoch 10/15\n",
      "1/1 [==============================] - 0s 2ms/step - loss: 0.2362\n",
      "Epoch 11/15\n",
      "1/1 [==============================] - 0s 3ms/step - loss: 0.2361\n",
      "Epoch 12/15\n",
      "1/1 [==============================] - 0s 2ms/step - loss: 0.2360\n",
      "Epoch 13/15\n",
      "1/1 [==============================] - 0s 1ms/step - loss: 0.2359\n",
      "Epoch 14/15\n",
      "1/1 [==============================] - 0s 3ms/step - loss: 0.2359\n",
      "Epoch 15/15\n",
      "1/1 [==============================] - 0s 2ms/step - loss: 0.2358\n"
     ]
    },
    {
     "data": {
      "text/plain": [
       "<keras.callbacks.History at 0x1c07c68c040>"
      ]
     },
     "execution_count": 30,
     "metadata": {},
     "output_type": "execute_result"
    }
   ],
   "source": [
    "autocodificador.fit(datos_normalizados,\n",
    "                    datos_normalizados,\n",
    "                    epochs = 15)"
   ]
  },
  {
   "cell_type": "code",
   "execution_count": null,
   "metadata": {},
   "outputs": [],
   "source": []
  },
  {
   "cell_type": "markdown",
   "metadata": {},
   "source": [
    "**TAREA: Pase los datos normalizados solo por el codificador y prediga la salida ya re-dimensionada.  Nota: Lo más seguro es que obtengan resultados diferentes debido a las inicializaciones al azar.**"
   ]
  },
  {
   "cell_type": "code",
   "execution_count": 31,
   "metadata": {},
   "outputs": [
    {
     "name": "stdout",
     "output_type": "stream",
     "text": [
      "1/1 [==============================] - 0s 41ms/step\n"
     ]
    }
   ],
   "source": [
    "codificado_2dim = codificador.predict(datos_normalizados)"
   ]
  },
  {
   "cell_type": "code",
   "execution_count": null,
   "metadata": {},
   "outputs": [],
   "source": []
  },
  {
   "cell_type": "markdown",
   "metadata": {},
   "source": [
    "**TAREA:  Una los datos codificados bidimensionales, con el indice original de países.  Asegúrese de verificar el orden del índice para asegurar que quede unido correctamente.  Hay muchas formas de hacer esto con Pandas.**"
   ]
  },
  {
   "cell_type": "code",
   "execution_count": 35,
   "metadata": {},
   "outputs": [
    {
     "data": {
      "text/plain": [
       "array([[1.5809822 , 0.        ],\n",
       "       [2.6122046 , 0.        ],\n",
       "       [1.656802  , 0.        ],\n",
       "       [0.00911809, 0.        ]], dtype=float32)"
      ]
     },
     "execution_count": 35,
     "metadata": {},
     "output_type": "execute_result"
    }
   ],
   "source": [
    "codificado_2dim"
   ]
  },
  {
   "cell_type": "code",
   "execution_count": null,
   "metadata": {},
   "outputs": [],
   "source": []
  },
  {
   "cell_type": "code",
   "execution_count": null,
   "metadata": {},
   "outputs": [],
   "source": []
  },
  {
   "cell_type": "code",
   "execution_count": null,
   "metadata": {},
   "outputs": [],
   "source": []
  },
  {
   "cell_type": "code",
   "execution_count": null,
   "metadata": {},
   "outputs": [],
   "source": []
  },
  {
   "cell_type": "markdown",
   "metadata": {},
   "source": [
    "**TAREA:  Ahora grafique estos resultados con una gráfica de dispersión, etiquedados por su país respectivo.**\n",
    "\n",
    "¿Se nota ya algún país que difiera de los otros?  ¿Cuál?"
   ]
  },
  {
   "cell_type": "code",
   "execution_count": 33,
   "metadata": {},
   "outputs": [],
   "source": [
    "#SU CODIGO AQUI"
   ]
  },
  {
   "cell_type": "code",
   "execution_count": null,
   "metadata": {},
   "outputs": [],
   "source": []
  },
  {
   "cell_type": "markdown",
   "metadata": {},
   "source": [
    "Al regresar a ver los datos en la tabla, esto tiene sentido: los Nor-Irlandeses comen mucho más gramos de papas frescas y mucho menos de frutas frescas, queso, pescado y bebidad alcohólicas.\n",
    "\n",
    "Es buena seña que la estructura que se visualiza refleje un hecho grande de la geografía real:  Irlanda del Norte es el único de los cuatro países que no están en la isla de Gran Bretaña. (Si tiene confusión entre Inglaterra, el Reino Unido y Gran Bretaña, vea: este [video](https://www.youtube.com/watch?v=rNu8XDBSn10).)"
   ]
  },
  {
   "cell_type": "code",
   "execution_count": null,
   "metadata": {},
   "outputs": [],
   "source": []
  }
 ],
 "metadata": {
  "kernelspec": {
   "display_name": "Python 3.10.2 64-bit",
   "language": "python",
   "name": "python3"
  },
  "language_info": {
   "codemirror_mode": {
    "name": "ipython",
    "version": 3
   },
   "file_extension": ".py",
   "mimetype": "text/x-python",
   "name": "python",
   "nbconvert_exporter": "python",
   "pygments_lexer": "ipython3",
   "version": "3.10.2"
  },
  "vscode": {
   "interpreter": {
    "hash": "d99a3f7b344b3c3107482760db15f42178bfad658d282ab0a919b76809e13cb5"
   }
  }
 },
 "nbformat": 4,
 "nbformat_minor": 4
}
